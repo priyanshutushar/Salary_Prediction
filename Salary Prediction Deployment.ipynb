{
 "cells": [
  {
   "cell_type": "markdown",
   "metadata": {},
   "source": [
    "# Loading the model"
   ]
  },
  {
   "cell_type": "code",
   "execution_count": 1,
   "metadata": {},
   "outputs": [],
   "source": [
    "import pickle \n",
    "\n",
    "file = open(\"salary.pkl\",\"rb\")\n",
    "\n",
    "clf = pickle.load(file)\n",
    "\n",
    "file.close()"
   ]
  },
  {
   "cell_type": "markdown",
   "metadata": {},
   "source": [
    "# Using the model"
   ]
  },
  {
   "cell_type": "code",
   "execution_count": 2,
   "metadata": {},
   "outputs": [
    {
     "name": "stdout",
     "output_type": "stream",
     "text": [
      "Enter years of experience : 10\n",
      "Salary : \n",
      "[114866.30080127]\n"
     ]
    }
   ],
   "source": [
    "year_exp = float(input(\"Enter years of experience : \"))\n",
    "\n",
    "input_features = [[year_exp]]\n",
    "\n",
    "salary_pred = clf.predict(input_features)\n",
    "\n",
    "print(\"Salary : \")\n",
    "print(salary_pred)"
   ]
  }
 ],
 "metadata": {
  "kernelspec": {
   "display_name": "Python 3",
   "language": "python",
   "name": "python3"
  },
  "language_info": {
   "codemirror_mode": {
    "name": "ipython",
    "version": 3
   },
   "file_extension": ".py",
   "mimetype": "text/x-python",
   "name": "python",
   "nbconvert_exporter": "python",
   "pygments_lexer": "ipython3",
   "version": "3.7.6"
  }
 },
 "nbformat": 4,
 "nbformat_minor": 4
}
